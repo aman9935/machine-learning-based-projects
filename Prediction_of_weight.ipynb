{
  "nbformat": 4,
  "nbformat_minor": 0,
  "metadata": {
    "colab": {
      "name": "Prediction of weight",
      "provenance": [],
      "collapsed_sections": [],
      "authorship_tag": "ABX9TyPsFk3rS08kIqLEIiXl3kWK",
      "include_colab_link": true
    },
    "kernelspec": {
      "name": "python3",
      "display_name": "Python 3"
    }
  },
  "cells": [
    {
      "cell_type": "markdown",
      "metadata": {
        "id": "view-in-github",
        "colab_type": "text"
      },
      "source": [
        "<a href=\"https://colab.research.google.com/github/aman9935/machine-learning-based-projects/blob/main/Prediction_of_weight.ipynb\" target=\"_parent\"><img src=\"https://colab.research.google.com/assets/colab-badge.svg\" alt=\"Open In Colab\"/></a>"
      ]
    },
    {
      "cell_type": "markdown",
      "metadata": {
        "id": "tLjgvpkggKxX"
      },
      "source": [
        "## Prediction of Weight."
      ]
    },
    {
      "cell_type": "code",
      "metadata": {
        "id": "90ZNJKICf8_n",
        "colab": {
          "base_uri": "https://localhost:8080/",
          "height": 34
        },
        "outputId": "ecdaf0f4-8e8b-4c04-b617-b026ae50c748"
      },
      "source": [
        "cd"
      ],
      "execution_count": null,
      "outputs": [
        {
          "output_type": "stream",
          "text": [
            "/root\n"
          ],
          "name": "stdout"
        }
      ]
    },
    {
      "cell_type": "code",
      "metadata": {
        "id": "Rc4t-3k3gCsH",
        "colab": {
          "base_uri": "https://localhost:8080/",
          "height": 51
        },
        "outputId": "0f741748-576b-42b1-bf0d-5acce399bab7"
      },
      "source": [
        "cd C:\\Users\\USER\\Desktop"
      ],
      "execution_count": null,
      "outputs": [
        {
          "output_type": "stream",
          "text": [
            "[Errno 2] No such file or directory: 'C:UsersUSERDesktop'\n",
            "/root\n"
          ],
          "name": "stdout"
        }
      ]
    },
    {
      "cell_type": "code",
      "metadata": {
        "id": "0sb_fkcegL-o"
      },
      "source": [
        "import pandas as pd \n",
        "import numpy as np\n",
        "import itertools"
      ],
      "execution_count": null,
      "outputs": []
    },
    {
      "cell_type": "markdown",
      "metadata": {
        "id": "pm51wfzOF6TQ"
      },
      "source": [
        "## The given problem based on Classification."
      ]
    },
    {
      "cell_type": "markdown",
      "metadata": {
        "id": "Z-XqisMp59zy"
      },
      "source": [
        "## 1.     Load Datasets"
      ]
    },
    {
      "cell_type": "code",
      "metadata": {
        "id": "mOPK4YzkgUGR"
      },
      "source": [
        "data=pd.read_csv(\"/content/weight-height.csv\")\n"
      ],
      "execution_count": null,
      "outputs": []
    },
    {
      "cell_type": "code",
      "metadata": {
        "id": "Yr7RFpYShZ9s",
        "colab": {
          "base_uri": "https://localhost:8080/",
          "height": 390
        },
        "outputId": "53962641-0024-4d26-ba0e-048588495659"
      },
      "source": [
        "data.head(11)"
      ],
      "execution_count": null,
      "outputs": [
        {
          "output_type": "execute_result",
          "data": {
            "text/html": [
              "<div>\n",
              "<style scoped>\n",
              "    .dataframe tbody tr th:only-of-type {\n",
              "        vertical-align: middle;\n",
              "    }\n",
              "\n",
              "    .dataframe tbody tr th {\n",
              "        vertical-align: top;\n",
              "    }\n",
              "\n",
              "    .dataframe thead th {\n",
              "        text-align: right;\n",
              "    }\n",
              "</style>\n",
              "<table border=\"1\" class=\"dataframe\">\n",
              "  <thead>\n",
              "    <tr style=\"text-align: right;\">\n",
              "      <th></th>\n",
              "      <th>Gender</th>\n",
              "      <th>Height</th>\n",
              "      <th>Weight</th>\n",
              "    </tr>\n",
              "  </thead>\n",
              "  <tbody>\n",
              "    <tr>\n",
              "      <th>0</th>\n",
              "      <td>Male</td>\n",
              "      <td>73.847017</td>\n",
              "      <td>241.893563</td>\n",
              "    </tr>\n",
              "    <tr>\n",
              "      <th>1</th>\n",
              "      <td>Male</td>\n",
              "      <td>68.781904</td>\n",
              "      <td>162.310473</td>\n",
              "    </tr>\n",
              "    <tr>\n",
              "      <th>2</th>\n",
              "      <td>Male</td>\n",
              "      <td>74.110105</td>\n",
              "      <td>212.740856</td>\n",
              "    </tr>\n",
              "    <tr>\n",
              "      <th>3</th>\n",
              "      <td>Male</td>\n",
              "      <td>71.730978</td>\n",
              "      <td>220.042470</td>\n",
              "    </tr>\n",
              "    <tr>\n",
              "      <th>4</th>\n",
              "      <td>Male</td>\n",
              "      <td>69.881796</td>\n",
              "      <td>206.349801</td>\n",
              "    </tr>\n",
              "    <tr>\n",
              "      <th>5</th>\n",
              "      <td>Male</td>\n",
              "      <td>67.253016</td>\n",
              "      <td>152.212156</td>\n",
              "    </tr>\n",
              "    <tr>\n",
              "      <th>6</th>\n",
              "      <td>Male</td>\n",
              "      <td>68.785081</td>\n",
              "      <td>183.927889</td>\n",
              "    </tr>\n",
              "    <tr>\n",
              "      <th>7</th>\n",
              "      <td>Male</td>\n",
              "      <td>68.348516</td>\n",
              "      <td>167.971111</td>\n",
              "    </tr>\n",
              "    <tr>\n",
              "      <th>8</th>\n",
              "      <td>Male</td>\n",
              "      <td>67.018950</td>\n",
              "      <td>175.929440</td>\n",
              "    </tr>\n",
              "    <tr>\n",
              "      <th>9</th>\n",
              "      <td>Male</td>\n",
              "      <td>63.456494</td>\n",
              "      <td>156.399676</td>\n",
              "    </tr>\n",
              "    <tr>\n",
              "      <th>10</th>\n",
              "      <td>Male</td>\n",
              "      <td>71.195382</td>\n",
              "      <td>186.604926</td>\n",
              "    </tr>\n",
              "  </tbody>\n",
              "</table>\n",
              "</div>"
            ],
            "text/plain": [
              "   Gender     Height      Weight\n",
              "0    Male  73.847017  241.893563\n",
              "1    Male  68.781904  162.310473\n",
              "2    Male  74.110105  212.740856\n",
              "3    Male  71.730978  220.042470\n",
              "4    Male  69.881796  206.349801\n",
              "5    Male  67.253016  152.212156\n",
              "6    Male  68.785081  183.927889\n",
              "7    Male  68.348516  167.971111\n",
              "8    Male  67.018950  175.929440\n",
              "9    Male  63.456494  156.399676\n",
              "10   Male  71.195382  186.604926"
            ]
          },
          "metadata": {
            "tags": []
          },
          "execution_count": 57
        }
      ]
    },
    {
      "cell_type": "markdown",
      "metadata": {
        "id": "zZFss1GB6J5v"
      },
      "source": [
        "## 2.      Analyze Data"
      ]
    },
    {
      "cell_type": "markdown",
      "metadata": {
        "id": "NmEZX4qW7ISt"
      },
      "source": [
        "## data.info():"
      ]
    },
    {
      "cell_type": "code",
      "metadata": {
        "id": "OlpL90Avj4Xc",
        "colab": {
          "base_uri": "https://localhost:8080/",
          "height": 187
        },
        "outputId": "b7657fee-1fda-4e59-c0a1-e71531f7147a"
      },
      "source": [
        "data.info()"
      ],
      "execution_count": null,
      "outputs": [
        {
          "output_type": "stream",
          "text": [
            "<class 'pandas.core.frame.DataFrame'>\n",
            "RangeIndex: 10000 entries, 0 to 9999\n",
            "Data columns (total 3 columns):\n",
            " #   Column  Non-Null Count  Dtype  \n",
            "---  ------  --------------  -----  \n",
            " 0   Gender  10000 non-null  object \n",
            " 1   Height  10000 non-null  float64\n",
            " 2   Weight  10000 non-null  float64\n",
            "dtypes: float64(2), object(1)\n",
            "memory usage: 234.5+ KB\n"
          ],
          "name": "stdout"
        }
      ]
    },
    {
      "cell_type": "markdown",
      "metadata": {
        "id": "UuUrZY_o7P59"
      },
      "source": [
        "## data.describe():"
      ]
    },
    {
      "cell_type": "code",
      "metadata": {
        "id": "yzbNGOk46tOk",
        "colab": {
          "base_uri": "https://localhost:8080/",
          "height": 297
        },
        "outputId": "fa2d1adc-f8e4-46df-bfe4-f0b354f841fe"
      },
      "source": [
        "data.describe()"
      ],
      "execution_count": null,
      "outputs": [
        {
          "output_type": "execute_result",
          "data": {
            "text/html": [
              "<div>\n",
              "<style scoped>\n",
              "    .dataframe tbody tr th:only-of-type {\n",
              "        vertical-align: middle;\n",
              "    }\n",
              "\n",
              "    .dataframe tbody tr th {\n",
              "        vertical-align: top;\n",
              "    }\n",
              "\n",
              "    .dataframe thead th {\n",
              "        text-align: right;\n",
              "    }\n",
              "</style>\n",
              "<table border=\"1\" class=\"dataframe\">\n",
              "  <thead>\n",
              "    <tr style=\"text-align: right;\">\n",
              "      <th></th>\n",
              "      <th>Height</th>\n",
              "      <th>Weight</th>\n",
              "    </tr>\n",
              "  </thead>\n",
              "  <tbody>\n",
              "    <tr>\n",
              "      <th>count</th>\n",
              "      <td>10000.000000</td>\n",
              "      <td>10000.000000</td>\n",
              "    </tr>\n",
              "    <tr>\n",
              "      <th>mean</th>\n",
              "      <td>66.367560</td>\n",
              "      <td>161.440357</td>\n",
              "    </tr>\n",
              "    <tr>\n",
              "      <th>std</th>\n",
              "      <td>3.847528</td>\n",
              "      <td>32.108439</td>\n",
              "    </tr>\n",
              "    <tr>\n",
              "      <th>min</th>\n",
              "      <td>54.263133</td>\n",
              "      <td>64.700127</td>\n",
              "    </tr>\n",
              "    <tr>\n",
              "      <th>25%</th>\n",
              "      <td>63.505620</td>\n",
              "      <td>135.818051</td>\n",
              "    </tr>\n",
              "    <tr>\n",
              "      <th>50%</th>\n",
              "      <td>66.318070</td>\n",
              "      <td>161.212928</td>\n",
              "    </tr>\n",
              "    <tr>\n",
              "      <th>75%</th>\n",
              "      <td>69.174262</td>\n",
              "      <td>187.169525</td>\n",
              "    </tr>\n",
              "    <tr>\n",
              "      <th>max</th>\n",
              "      <td>78.998742</td>\n",
              "      <td>269.989698</td>\n",
              "    </tr>\n",
              "  </tbody>\n",
              "</table>\n",
              "</div>"
            ],
            "text/plain": [
              "             Height        Weight\n",
              "count  10000.000000  10000.000000\n",
              "mean      66.367560    161.440357\n",
              "std        3.847528     32.108439\n",
              "min       54.263133     64.700127\n",
              "25%       63.505620    135.818051\n",
              "50%       66.318070    161.212928\n",
              "75%       69.174262    187.169525\n",
              "max       78.998742    269.989698"
            ]
          },
          "metadata": {
            "tags": []
          },
          "execution_count": 59
        }
      ]
    },
    {
      "cell_type": "markdown",
      "metadata": {
        "id": "FNOOAXUW7gLq"
      },
      "source": [
        "## data.isnull().sum():"
      ]
    },
    {
      "cell_type": "code",
      "metadata": {
        "id": "_q7basPz6zM_",
        "colab": {
          "base_uri": "https://localhost:8080/",
          "height": 85
        },
        "outputId": "cb050c34-93c4-4191-eef2-cdae61df84ee"
      },
      "source": [
        "data.isnull().sum()"
      ],
      "execution_count": null,
      "outputs": [
        {
          "output_type": "execute_result",
          "data": {
            "text/plain": [
              "Gender    0\n",
              "Height    0\n",
              "Weight    0\n",
              "dtype: int64"
            ]
          },
          "metadata": {
            "tags": []
          },
          "execution_count": 60
        }
      ]
    },
    {
      "cell_type": "markdown",
      "metadata": {
        "id": "CwR0c6hR8N9H"
      },
      "source": [
        "##    3. Convert Gender to Number"
      ]
    },
    {
      "cell_type": "markdown",
      "metadata": {
        "id": "Zqhh-pXM8ctK"
      },
      "source": [
        "## Use Label Encoder"
      ]
    },
    {
      "cell_type": "code",
      "metadata": {
        "id": "V0OAsKIr8Ksn"
      },
      "source": [
        "# Step 3 - Convert Gender to number \n",
        "# Using LabelEncoder\n",
        "X = data.iloc[:, :-1].values\n",
        "y = data.iloc[:, 2].values\n",
        "from sklearn.preprocessing import LabelEncoder\n",
        "labelEncoder_gender =  LabelEncoder()\n",
        "X[:,0] = labelEncoder_gender.fit_transform(X[:,0])\n",
        "\n",
        "# Optional - if you want to convert X to float data type\n",
        "import numpy as np\n",
        "X = np.vstack(X[:, :]).astype(np.float)"
      ],
      "execution_count": null,
      "outputs": []
    },
    {
      "cell_type": "markdown",
      "metadata": {
        "id": "tBrSadjQ92Dz"
      },
      "source": [
        "## Replace directly in Data Frame"
      ]
    },
    {
      "cell_type": "code",
      "metadata": {
        "id": "PTMaeUT_9z_1"
      },
      "source": [
        " # Replace directly in dataframe\n",
        "data['Gender'].replace('Female',0, inplace=True)\n",
        "data['Gender'].replace('Male',1, inplace=True)\n",
        "X = data.iloc[:, :-1].values\n",
        "y = data.iloc[:, 2].values"
      ],
      "execution_count": null,
      "outputs": []
    },
    {
      "cell_type": "code",
      "metadata": {
        "id": "rbBgmQFx-Dx_",
        "colab": {
          "base_uri": "https://localhost:8080/",
          "height": 136
        },
        "outputId": "35e22685-6eec-4b0a-e3c0-e71849825199"
      },
      "source": [
        "# 1 represent gender of Male.\n",
        "# 0 represent gender of Female.\n",
        "#this array contains only (gender,height).\n",
        "X\n"
      ],
      "execution_count": null,
      "outputs": [
        {
          "output_type": "execute_result",
          "data": {
            "text/plain": [
              "array([[ 1.        , 73.84701702],\n",
              "       [ 1.        , 68.78190405],\n",
              "       [ 1.        , 74.11010539],\n",
              "       ...,\n",
              "       [ 0.        , 63.86799221],\n",
              "       [ 0.        , 69.03424313],\n",
              "       [ 0.        , 61.94424588]])"
            ]
          },
          "metadata": {
            "tags": []
          },
          "execution_count": 63
        }
      ]
    },
    {
      "cell_type": "markdown",
      "metadata": {
        "id": "ZePATxOz_p-h"
      },
      "source": [
        "## 4. Split datasets into training set and test set"
      ]
    },
    {
      "cell_type": "code",
      "metadata": {
        "id": "S5n0XF1E-P2w"
      },
      "source": [
        "# we will use 80% of the data for training and 20% of the data for testing. \n",
        "from sklearn.model_selection import train_test_split\n",
        "X_train, X_test, y_train, y_test = train_test_split(X, y, test_size=0.2, random_state=0)"
      ],
      "execution_count": null,
      "outputs": []
    },
    {
      "cell_type": "code",
      "metadata": {
        "id": "-rTYhhx9_3aI",
        "colab": {
          "base_uri": "https://localhost:8080/",
          "height": 34
        },
        "outputId": "25e1f1de-2de0-4834-ab1b-7183ccb54697"
      },
      "source": [
        "X_train.shape"
      ],
      "execution_count": null,
      "outputs": [
        {
          "output_type": "execute_result",
          "data": {
            "text/plain": [
              "(8000, 2)"
            ]
          },
          "metadata": {
            "tags": []
          },
          "execution_count": 65
        }
      ]
    },
    {
      "cell_type": "code",
      "metadata": {
        "id": "cDMSo2QpAQUM",
        "colab": {
          "base_uri": "https://localhost:8080/",
          "height": 34
        },
        "outputId": "b415c2c8-4f00-4dfb-f327-02defc7abad5"
      },
      "source": [
        "X_test.shape"
      ],
      "execution_count": null,
      "outputs": [
        {
          "output_type": "execute_result",
          "data": {
            "text/plain": [
              "(2000, 2)"
            ]
          },
          "metadata": {
            "tags": []
          },
          "execution_count": 66
        }
      ]
    },
    {
      "cell_type": "code",
      "metadata": {
        "id": "NCTIJfrBATMY",
        "colab": {
          "base_uri": "https://localhost:8080/",
          "height": 34
        },
        "outputId": "74e1ea40-4e4b-4566-b408-9b4e4e66f28c"
      },
      "source": [
        "y_test.shape"
      ],
      "execution_count": null,
      "outputs": [
        {
          "output_type": "execute_result",
          "data": {
            "text/plain": [
              "(2000,)"
            ]
          },
          "metadata": {
            "tags": []
          },
          "execution_count": 67
        }
      ]
    },
    {
      "cell_type": "code",
      "metadata": {
        "id": "0g-PIUWWAWe4",
        "colab": {
          "base_uri": "https://localhost:8080/",
          "height": 34
        },
        "outputId": "e1c67960-4788-40f3-91c9-09ba6971e1cd"
      },
      "source": [
        "y_train.shape"
      ],
      "execution_count": null,
      "outputs": [
        {
          "output_type": "execute_result",
          "data": {
            "text/plain": [
              "(8000,)"
            ]
          },
          "metadata": {
            "tags": []
          },
          "execution_count": 68
        }
      ]
    },
    {
      "cell_type": "markdown",
      "metadata": {
        "id": "2_u9dSZPA-BO"
      },
      "source": [
        "## 5. Fit Regression Model"
      ]
    },
    {
      "cell_type": "code",
      "metadata": {
        "id": "m4R1dJr5AaXA",
        "colab": {
          "base_uri": "https://localhost:8080/",
          "height": 34
        },
        "outputId": "1bb81cff-def8-410d-8eb1-b17f2356324e"
      },
      "source": [
        "from sklearn.linear_model import LinearRegression\n",
        "lin_reg = LinearRegression()\n",
        "lin_reg.fit(X_train, y_train)"
      ],
      "execution_count": null,
      "outputs": [
        {
          "output_type": "execute_result",
          "data": {
            "text/plain": [
              "LinearRegression(copy_X=True, fit_intercept=True, n_jobs=None, normalize=False)"
            ]
          },
          "metadata": {
            "tags": []
          },
          "execution_count": 69
        }
      ]
    },
    {
      "cell_type": "markdown",
      "metadata": {
        "id": "0M_F1dA8BYxS"
      },
      "source": [
        "## 6. Predict test set values"
      ]
    },
    {
      "cell_type": "code",
      "metadata": {
        "id": "SM7hCcg0BNIA"
      },
      "source": [
        "# Let's compare the predicted values(lin_pred) with actual values(y_test).\n",
        "# We can see that our model did a fairly good job.\n",
        "predictions = lin_reg.predict(X_test)"
      ],
      "execution_count": null,
      "outputs": []
    },
    {
      "cell_type": "code",
      "metadata": {
        "id": "F6-74AIOBpm2",
        "colab": {
          "base_uri": "https://localhost:8080/",
          "height": 51
        },
        "outputId": "6cb82cb5-c0bc-4b52-9295-3a19307a63fe"
      },
      "source": [
        "predictions"
      ],
      "execution_count": null,
      "outputs": [
        {
          "output_type": "execute_result",
          "data": {
            "text/plain": [
              "array([141.93828842, 176.55658781, 219.77836196, ..., 149.97129636,\n",
              "       166.83374902, 138.87940677])"
            ]
          },
          "metadata": {
            "tags": []
          },
          "execution_count": 71
        }
      ]
    },
    {
      "cell_type": "code",
      "metadata": {
        "id": "MNgQlNIeBuyj"
      },
      "source": [
        "y_test"
      ],
      "execution_count": null,
      "outputs": []
    },
    {
      "cell_type": "markdown",
      "metadata": {
        "id": "otykXvZHCvWv"
      },
      "source": [
        "## 7. Model Accuracy"
      ]
    },
    {
      "cell_type": "code",
      "metadata": {
        "id": "Kmk4bBQLCBFL"
      },
      "source": [
        "lin_reg.score(X_train,y_train)"
      ],
      "execution_count": null,
      "outputs": []
    },
    {
      "cell_type": "code",
      "metadata": {
        "id": "INJfnBs-DCzE"
      },
      "source": [
        "from sklearn.metrics import mean_squared_error"
      ],
      "execution_count": null,
      "outputs": []
    },
    {
      "cell_type": "code",
      "metadata": {
        "id": "9JYktSXiEcy0"
      },
      "source": [
        "loss=mean_squared_error(y_test,predictions)"
      ],
      "execution_count": null,
      "outputs": []
    },
    {
      "cell_type": "code",
      "metadata": {
        "id": "hu8nMJIyEi39",
        "colab": {
          "base_uri": "https://localhost:8080/",
          "height": 34
        },
        "outputId": "15b0960e-e93f-4457-893f-5b1072a990fb"
      },
      "source": [
        "loss"
      ],
      "execution_count": null,
      "outputs": [
        {
          "output_type": "execute_result",
          "data": {
            "text/plain": [
              "97.87152217990108"
            ]
          },
          "metadata": {
            "tags": []
          },
          "execution_count": 50
        }
      ]
    },
    {
      "cell_type": "markdown",
      "metadata": {
        "id": "N9ozTHIZEwtI"
      },
      "source": [
        "## 8. Predict my weight"
      ]
    },
    {
      "cell_type": "code",
      "metadata": {
        "id": "FS3ZOY6bEkQb"
      },
      "source": [
        "my_weight_pred = lin_reg.predict([[0,74]])"
      ],
      "execution_count": null,
      "outputs": []
    },
    {
      "cell_type": "code",
      "metadata": {
        "id": "oBYTjL-rFRMD",
        "colab": {
          "base_uri": "https://localhost:8080/",
          "height": 34
        },
        "outputId": "3d56066b-89a1-4806-d251-1eabb3113583"
      },
      "source": [
        "my_weight_pred"
      ],
      "execution_count": null,
      "outputs": [
        {
          "output_type": "execute_result",
          "data": {
            "text/plain": [
              "array([197.2481918])"
            ]
          },
          "metadata": {
            "tags": []
          },
          "execution_count": 52
        }
      ]
    }
  ]
}